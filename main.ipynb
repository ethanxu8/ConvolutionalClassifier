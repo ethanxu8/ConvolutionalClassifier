{
 "cells": [
  {
   "cell_type": "markdown",
   "metadata": {},
   "source": [
    "# Building A Convolutional Image Classifier With Keras and Tensorflow"
   ]
  },
  {
   "cell_type": "markdown",
   "metadata": {},
   "source": [
    "This project revolves around useing modern deep-learning networks to build an image classifier with Keras. We will design our own custom convnet with reusable blocks and perform visual feature extraction. We will also use transfer learning to boost our model and utilzie data augmentation to extend our dataset. "
   ]
  },
  {
   "cell_type": "markdown",
   "metadata": {},
   "source": [
    "Before we begin, let's break down the theory behind our project so we get a better understanding. \n",
    "\n",
    "The goal of our project is to design a neural network which can \"understand\" a natural image well-enough to solve the same kinds of problems the human visual system can solve. \n",
    "\n",
    "There are many neural networks (eg. RNNs, GNNs, CNNs), all utilized for different purposes and applications in machine learning. For example, Recurrent Neural Networks (RNNs) are great for text based classification tasks. This can include objectives like sentiment analysis. The neural networks that are best for image classification are called convolutional neural networks (CNN or convnet). \n",
    "\n",
    "A CNN consists of two parts: a convolutional base and a dense head. \n",
    "\n",
    "The base is used to extract the features from an image. WHat does this mean? Each convolutional layer applies filters (small matrices) that detect specific patterns in different part of the image. These filters help break down the image into different levels of abstraction. \n",
    "- First layers detect basic features (edges, corners, textures). \n",
    "- Middle layers detect more complex structures (shapes, object). \n",
    "- Deeper layers recognize high-level features (eg. faces, cats, cars).\n",
    "\n",
    "Each layer transforms the image into multiple feature maps, which are \"filtered versions\" of the image, highlighting different aspects. By gradually learning from low-level details to high-level concepts, the CNN builds an abstract understanding of the image inputted allowing the classification to become easier. \n",
    "\n",
    "The head now recieves meaninfgul structured information from the base instead of raw data/pixels. This allows it to make an educated guess. "
   ]
  },
  {
   "cell_type": "markdown",
   "metadata": {},
   "source": [
    "Now, during training, we want our network to learn two things. \n",
    "1. which features to extract from an image \n",
    "2. which class goes with what features\n",
    "\n",
    "CNNs are rarely trained from scratch and a more common approach is to reuse the base of a pretrained model. To the pretrained base, we can then attach an untrained head. In other wrods, we reuse thepart of a network that has already learned to extract features adn attach it to some fresh layers to learn. "
   ]
  },
  {
   "cell_type": "markdown",
   "metadata": {},
   "source": [
    "Enough talking, let's get coding! "
   ]
  }
 ],
 "metadata": {
  "kernelspec": {
   "display_name": "Python 3",
   "language": "python",
   "name": "python3"
  },
  "language_info": {
   "codemirror_mode": {
    "name": "ipython",
    "version": 3
   },
   "file_extension": ".py",
   "mimetype": "text/x-python",
   "name": "python",
   "nbconvert_exporter": "python",
   "pygments_lexer": "ipython3",
   "version": "3.12.4"
  }
 },
 "nbformat": 4,
 "nbformat_minor": 2
}
